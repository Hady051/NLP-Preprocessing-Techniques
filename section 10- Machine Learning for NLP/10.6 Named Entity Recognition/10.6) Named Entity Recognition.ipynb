{
 "cells": [
  {
   "metadata": {},
   "cell_type": "raw",
   "source": [
    "sentence = \"The Eiffel Tower was built from 1887 to 1889 by French engineer Gustave Eiffel, whose\n",
    "            company specialized in building metal frameworks and structures.\"\n",
    "\n",
    "tags for words if they were in the sentence, different than the pos_tags {used in ne_chunk}\n",
    "\"\"\"\n",
    "Person Eg: Krish C Naik\n",
    "Place Or Location Eg: India\n",
    "Date Eg: September,24-09-1989\n",
    "Time  Eg: 4:30pm\n",
    "Money Eg: 1 million dollar\n",
    "Organization Eg: iNeuron Private Limited\n",
    "Percent Eg: 20%, twenty percent\n",
    "\"\"\""
   ],
   "id": "d843529107541b77"
  },
  {
   "metadata": {
    "ExecuteTime": {
     "end_time": "2025-01-13T20:58:40.482524Z",
     "start_time": "2025-01-13T20:58:40.477893Z"
    }
   },
   "cell_type": "code",
   "source": "sentence = \"The Eiffel Tower was built from 1887 to 1889 by Gustave Eiffel, whose company specialized in           building metal frameworks and structures.\"",
   "id": "4a713b6a4192eaaf",
   "outputs": [],
   "execution_count": 1
  },
  {
   "metadata": {
    "ExecuteTime": {
     "end_time": "2025-01-13T20:58:41.738651Z",
     "start_time": "2025-01-13T20:58:40.486549Z"
    }
   },
   "cell_type": "code",
   "source": "from nltk.tokenize import word_tokenize, sent_tokenize",
   "id": "f8cc2219ba5f9ad5",
   "outputs": [],
   "execution_count": 2
  },
  {
   "metadata": {
    "ExecuteTime": {
     "end_time": "2025-01-13T20:58:41.960141Z",
     "start_time": "2025-01-13T20:58:41.950305Z"
    }
   },
   "cell_type": "code",
   "source": "print(word_tokenize(sentence) )",
   "id": "74c3a068613d2c61",
   "outputs": [
    {
     "name": "stdout",
     "output_type": "stream",
     "text": [
      "['The', 'Eiffel', 'Tower', 'was', 'built', 'from', '1887', 'to', '1889', 'by', 'Gustave', 'Eiffel', ',', 'whose', 'company', 'specialized', 'in', 'building', 'metal', 'frameworks', 'and', 'structures', '.']\n"
     ]
    }
   ],
   "execution_count": 3
  },
  {
   "metadata": {
    "ExecuteTime": {
     "end_time": "2025-01-13T20:58:41.974438Z",
     "start_time": "2025-01-13T20:58:41.970877Z"
    }
   },
   "cell_type": "code",
   "source": "words = word_tokenize(sentence)",
   "id": "e1ed69ca603d3c35",
   "outputs": [],
   "execution_count": 4
  },
  {
   "metadata": {
    "ExecuteTime": {
     "end_time": "2025-01-13T20:58:41.988229Z",
     "start_time": "2025-01-13T20:58:41.982375Z"
    }
   },
   "cell_type": "code",
   "source": "from nltk import pos_tag",
   "id": "d243a3b86a5e0c9e",
   "outputs": [],
   "execution_count": 5
  },
  {
   "metadata": {
    "ExecuteTime": {
     "end_time": "2025-01-13T20:58:42.081529Z",
     "start_time": "2025-01-13T20:58:41.996138Z"
    }
   },
   "cell_type": "code",
   "source": "print(pos_tag(words) )",
   "id": "ab39bced7338fbe5",
   "outputs": [
    {
     "name": "stdout",
     "output_type": "stream",
     "text": [
      "[('The', 'DT'), ('Eiffel', 'NNP'), ('Tower', 'NNP'), ('was', 'VBD'), ('built', 'VBN'), ('from', 'IN'), ('1887', 'CD'), ('to', 'TO'), ('1889', 'CD'), ('by', 'IN'), ('Gustave', 'NNP'), ('Eiffel', 'NNP'), (',', ','), ('whose', 'WP$'), ('company', 'NN'), ('specialized', 'VBD'), ('in', 'IN'), ('building', 'NN'), ('metal', 'NN'), ('frameworks', 'NNS'), ('and', 'CC'), ('structures', 'NNS'), ('.', '.')]\n"
     ]
    }
   ],
   "execution_count": 6
  },
  {
   "metadata": {
    "ExecuteTime": {
     "end_time": "2025-01-13T20:58:42.097805Z",
     "start_time": "2025-01-13T20:58:42.091563Z"
    }
   },
   "cell_type": "code",
   "source": "tag_elements = pos_tag(words)",
   "id": "e7e466b93d296882",
   "outputs": [],
   "execution_count": 7
  },
  {
   "metadata": {
    "ExecuteTime": {
     "end_time": "2025-01-13T20:58:42.110793Z",
     "start_time": "2025-01-13T20:58:42.105906Z"
    }
   },
   "cell_type": "code",
   "source": "from nltk import ne_chunk",
   "id": "7848749366fbced",
   "outputs": [],
   "execution_count": 8
  },
  {
   "metadata": {},
   "cell_type": "raw",
   "source": "# // named entity chunker to chunk the given list of tagged tokens.",
   "id": "d20b7ff8a2b9429e"
  },
  {
   "metadata": {
    "ExecuteTime": {
     "end_time": "2025-01-13T20:58:42.122902Z",
     "start_time": "2025-01-13T20:58:42.118190Z"
    }
   },
   "cell_type": "code",
   "source": [
    "# import nltk\n",
    "# nltk.download('maxent_ne_chunker')"
   ],
   "id": "1fbb77abb942d14a",
   "outputs": [],
   "execution_count": 9
  },
  {
   "metadata": {
    "ExecuteTime": {
     "end_time": "2025-01-13T20:58:42.135547Z",
     "start_time": "2025-01-13T20:58:42.130444Z"
    }
   },
   "cell_type": "code",
   "source": [
    "# import nltk\n",
    "# nltk.download('words')"
   ],
   "id": "b639c23258fe88fd",
   "outputs": [],
   "execution_count": 10
  },
  {
   "metadata": {
    "ExecuteTime": {
     "end_time": "2025-01-13T21:05:26.866739Z",
     "start_time": "2025-01-13T20:58:42.142769Z"
    }
   },
   "cell_type": "code",
   "source": "ne_chunk(tag_elements).draw()",
   "id": "744f26c95f57210",
   "outputs": [],
   "execution_count": 11
  },
  {
   "metadata": {},
   "cell_type": "raw",
   "source": [
    "# // the big S above is for sentence.\n",
    "# // this basically identifies all elements in the sentence accompanied by theri pos_tags according to\n",
    "# /  the tags above"
   ],
   "id": "540489b116e23c88"
  },
  {
   "metadata": {},
   "cell_type": "code",
   "outputs": [],
   "execution_count": null,
   "source": "",
   "id": "47ad6e420499d5ee"
  }
 ],
 "metadata": {
  "kernelspec": {
   "display_name": "Python 3",
   "language": "python",
   "name": "python3"
  },
  "language_info": {
   "codemirror_mode": {
    "name": "ipython",
    "version": 2
   },
   "file_extension": ".py",
   "mimetype": "text/x-python",
   "name": "python",
   "nbconvert_exporter": "python",
   "pygments_lexer": "ipython2",
   "version": "2.7.6"
  }
 },
 "nbformat": 4,
 "nbformat_minor": 5
}
