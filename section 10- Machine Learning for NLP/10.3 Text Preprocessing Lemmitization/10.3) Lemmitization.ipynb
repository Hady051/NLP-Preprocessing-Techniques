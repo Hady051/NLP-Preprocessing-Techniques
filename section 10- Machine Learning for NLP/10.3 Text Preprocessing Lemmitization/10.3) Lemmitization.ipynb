{
 "cells": [
  {
   "metadata": {},
   "cell_type": "markdown",
   "source": [
    "## Lemitization\n",
    "\n",
    "Lemmatization technique is like stemming. The output we will get after lemmatization is called ‘lemma’, which is a root word rather than root stem, the output of stemming. After lemmatization, we will be getting a valid word that means the same thing."
   ],
   "id": "130d7c4424620001"
  },
  {
   "metadata": {},
   "cell_type": "markdown",
   "source": [
    "### Wordnet Lemmatizer\n",
    "\n",
    "NLTK provides WordNetLemmatizer class which is a thin wrapper around the wordnet corpus. This class uses morphy() function to the WordNet CorpusReader class to find a lemma. Let us understand it with an example −"
   ],
   "id": "e5b792240db26c10"
  },
  {
   "cell_type": "code",
   "id": "initial_id",
   "metadata": {
    "collapsed": true,
    "ExecuteTime": {
     "end_time": "2025-01-13T17:51:13.610957Z",
     "start_time": "2025-01-13T17:51:12.348778Z"
    }
   },
   "source": "from nltk.stem import WordNetLemmatizer",
   "outputs": [],
   "execution_count": 1
  },
  {
   "metadata": {},
   "cell_type": "raw",
   "source": [
    "# // an error happened where wordnet was not found.\n",
    "'''\n",
    "Resource wordnet not found.\n",
    "Please use the NLTK Downloader to obtain the resource:\n",
    ">>> import nltk\n",
    ">>> nltk.download('wordnet')\n",
    "'''"
   ],
   "id": "9238804a14738d54"
  },
  {
   "metadata": {},
   "cell_type": "raw",
   "source": "# // another error happened where it was asking for omw-1.4",
   "id": "890a77b6d048ea50"
  },
  {
   "metadata": {
    "ExecuteTime": {
     "end_time": "2025-01-13T17:51:13.620596Z",
     "start_time": "2025-01-13T17:51:13.617119Z"
    }
   },
   "cell_type": "code",
   "source": [
    "# import nltk\n",
    "# nltk.download('wordnet')"
   ],
   "id": "bb83ebae2f57508",
   "outputs": [],
   "execution_count": 2
  },
  {
   "metadata": {
    "ExecuteTime": {
     "end_time": "2025-01-13T17:51:13.823283Z",
     "start_time": "2025-01-13T17:51:13.819492Z"
    }
   },
   "cell_type": "code",
   "source": [
    "# import nltk\n",
    "# nltk.download('omw-1.4')"
   ],
   "id": "50706d8932d87209",
   "outputs": [],
   "execution_count": 3
  },
  {
   "metadata": {
    "ExecuteTime": {
     "end_time": "2025-01-13T17:51:13.842304Z",
     "start_time": "2025-01-13T17:51:13.830360Z"
    }
   },
   "cell_type": "code",
   "source": "wordnet_lemmatizer = WordNetLemmatizer()",
   "id": "7c50731bfd7ed04",
   "outputs": [],
   "execution_count": 4
  },
  {
   "metadata": {
    "ExecuteTime": {
     "end_time": "2025-01-13T17:51:14.820886Z",
     "start_time": "2025-01-13T17:51:13.860949Z"
    }
   },
   "cell_type": "code",
   "source": "wordnet_lemmatizer.lemmatize(\"going\")",
   "id": "9aa32282c9c8726a",
   "outputs": [
    {
     "data": {
      "text/plain": [
       "'going'"
      ]
     },
     "execution_count": 5,
     "metadata": {},
     "output_type": "execute_result"
    }
   ],
   "execution_count": 5
  },
  {
   "metadata": {},
   "cell_type": "markdown",
   "source": "#### pos argument",
   "id": "ad730b14fc5dbc3d"
  },
  {
   "metadata": {},
   "cell_type": "raw",
   "source": "# // This is given so that the lemmitization technique gives better result with respect to the type of   / the input",
   "id": "bb720aa737c3bd77"
  },
  {
   "metadata": {
    "ExecuteTime": {
     "end_time": "2025-01-13T17:51:14.832254Z",
     "start_time": "2025-01-13T17:51:14.829708Z"
    }
   },
   "cell_type": "code",
   "source": [
    "\n",
    "'''\n",
    "Noun-n  # // default\n",
    "verb-v\n",
    "adjective-a\n",
    "adverb-r\n",
    "'''\n"
   ],
   "id": "24b218e015602ab8",
   "outputs": [],
   "execution_count": null
  },
  {
   "metadata": {
    "ExecuteTime": {
     "end_time": "2025-01-13T17:56:57.943215Z",
     "start_time": "2025-01-13T17:56:57.937045Z"
    }
   },
   "cell_type": "code",
   "source": "wordnet_lemmatizer.lemmatize(\"going\", pos='v')",
   "id": "1e93c5752f1ba46f",
   "outputs": [
    {
     "data": {
      "text/plain": [
       "'go'"
      ]
     },
     "execution_count": 6,
     "metadata": {},
     "output_type": "execute_result"
    }
   ],
   "execution_count": 6
  },
  {
   "metadata": {
    "ExecuteTime": {
     "end_time": "2025-01-13T17:59:26.019514Z",
     "start_time": "2025-01-13T17:59:26.015475Z"
    }
   },
   "cell_type": "code",
   "source": "words = [\"eating\", \"eats\", \"eaten\", \"writing\", \"writes\", \"programming\", \"programs\", \"history\", \"finally\", \"finalized\"]",
   "id": "2fc830ca90f53aba",
   "outputs": [],
   "execution_count": 7
  },
  {
   "metadata": {
    "ExecuteTime": {
     "end_time": "2025-01-13T18:01:01.086572Z",
     "start_time": "2025-01-13T18:01:01.080116Z"
    }
   },
   "cell_type": "code",
   "source": [
    "for word in words:\n",
    "    print(word + \" --> \" + wordnet_lemmatizer.lemmatize(word) )"
   ],
   "id": "bc1026f53475bab3",
   "outputs": [
    {
     "name": "stdout",
     "output_type": "stream",
     "text": [
      "eating --> eating\n",
      "eats --> eats\n",
      "eaten --> eaten\n",
      "writing --> writing\n",
      "writes --> writes\n",
      "programming --> programming\n",
      "programs --> program\n",
      "history --> history\n",
      "finally --> finally\n",
      "finalized --> finalized\n"
     ]
    }
   ],
   "execution_count": 8
  },
  {
   "metadata": {
    "ExecuteTime": {
     "end_time": "2025-01-13T18:02:27.948908Z",
     "start_time": "2025-01-13T18:02:27.942884Z"
    }
   },
   "cell_type": "code",
   "source": [
    "for word in words:\n",
    "    print(word + \" --> \" + wordnet_lemmatizer.lemmatize(word, pos='v') )"
   ],
   "id": "e61003b9521be849",
   "outputs": [
    {
     "name": "stdout",
     "output_type": "stream",
     "text": [
      "eating --> eat\n",
      "eats --> eat\n",
      "eaten --> eat\n",
      "writing --> write\n",
      "writes --> write\n",
      "programming --> program\n",
      "programs --> program\n",
      "history --> history\n",
      "finally --> finally\n",
      "finalized --> finalize\n"
     ]
    }
   ],
   "execution_count": 9
  },
  {
   "metadata": {
    "ExecuteTime": {
     "end_time": "2025-01-13T18:04:50.991682Z",
     "start_time": "2025-01-13T18:04:50.985495Z"
    }
   },
   "cell_type": "code",
   "source": "wordnet_lemmatizer.lemmatize(\"goes\", pos='v')",
   "id": "1a78848617419a58",
   "outputs": [
    {
     "data": {
      "text/plain": [
       "'go'"
      ]
     },
     "execution_count": 10,
     "metadata": {},
     "output_type": "execute_result"
    }
   ],
   "execution_count": 10
  },
  {
   "metadata": {
    "ExecuteTime": {
     "end_time": "2025-01-13T18:05:54.622081Z",
     "start_time": "2025-01-13T18:05:54.616436Z"
    }
   },
   "cell_type": "code",
   "source": "wordnet_lemmatizer.lemmatize(\"fairly\", pos='v'), wordnet_lemmatizer.lemmatize(\"sportingly\", pos='v')",
   "id": "5862cb3f0c81705e",
   "outputs": [
    {
     "data": {
      "text/plain": [
       "('fairly', 'sportingly')"
      ]
     },
     "execution_count": 11,
     "metadata": {},
     "output_type": "execute_result"
    }
   ],
   "execution_count": 11
  },
  {
   "metadata": {},
   "cell_type": "code",
   "outputs": [],
   "execution_count": null,
   "source": "",
   "id": "c4c2bf272995482f"
  }
 ],
 "metadata": {
  "kernelspec": {
   "display_name": "Python 3",
   "language": "python",
   "name": "python3"
  },
  "language_info": {
   "codemirror_mode": {
    "name": "ipython",
    "version": 2
   },
   "file_extension": ".py",
   "mimetype": "text/x-python",
   "name": "python",
   "nbconvert_exporter": "python",
   "pygments_lexer": "ipython2",
   "version": "2.7.6"
  }
 },
 "nbformat": 4,
 "nbformat_minor": 5
}
