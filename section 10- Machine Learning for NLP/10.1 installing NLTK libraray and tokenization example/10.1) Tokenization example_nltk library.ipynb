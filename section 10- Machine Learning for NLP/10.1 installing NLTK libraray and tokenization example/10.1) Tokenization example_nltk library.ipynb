{
 "cells": [
  {
   "cell_type": "code",
   "id": "initial_id",
   "metadata": {
    "collapsed": true,
    "ExecuteTime": {
     "end_time": "2025-01-13T13:54:14.011225Z",
     "start_time": "2025-01-13T13:54:14.005945Z"
    }
   },
   "source": [
    "corpus = \"\"\"Hello and welcome to eye-neuron's NLP Tutorials.\n",
    "Please do watch the entire course. Hope you become expert in NLP.\n",
    "\"\"\""
   ],
   "outputs": [],
   "execution_count": 1
  },
  {
   "metadata": {
    "ExecuteTime": {
     "end_time": "2025-01-13T13:54:14.025425Z",
     "start_time": "2025-01-13T13:54:14.018212Z"
    }
   },
   "cell_type": "code",
   "source": "print(corpus)",
   "id": "a61c730f79d1b9a7",
   "outputs": [
    {
     "name": "stdout",
     "output_type": "stream",
     "text": [
      "Hello and welcome to eye-neuron's NLP Tutorials.\n",
      "Please do watch the entire course. Hope you become expert in NLP.\n",
      "\n"
     ]
    }
   ],
   "execution_count": 2
  },
  {
   "metadata": {},
   "cell_type": "markdown",
   "source": "#### Tokenization",
   "id": "c0b0d4c696a44d3"
  },
  {
   "metadata": {},
   "cell_type": "markdown",
   "source": "**## paragraph --> sentences**",
   "id": "ba63a1bcc5c13663"
  },
  {
   "metadata": {
    "ExecuteTime": {
     "end_time": "2025-01-13T13:54:14.238988Z",
     "start_time": "2025-01-13T13:54:14.235437Z"
    }
   },
   "cell_type": "code",
   "source": [
    "# import nltk\n",
    "# nltk.download('punkt')"
   ],
   "id": "eb5d7938eb384d19",
   "outputs": [],
   "execution_count": 3
  },
  {
   "metadata": {
    "ExecuteTime": {
     "end_time": "2025-01-13T13:54:15.503728Z",
     "start_time": "2025-01-13T13:54:14.255163Z"
    }
   },
   "cell_type": "code",
   "source": "from nltk.tokenize import sent_tokenize",
   "id": "12efedcef7ed8c7d",
   "outputs": [],
   "execution_count": 4
  },
  {
   "metadata": {},
   "cell_type": "raw",
   "source": [
    "## Description:\n",
    "# // This is the function used to convert paragrapgh into sentences."
   ],
   "id": "31873aed4a104022"
  },
  {
   "metadata": {
    "ExecuteTime": {
     "end_time": "2025-01-13T13:54:15.522691Z",
     "start_time": "2025-01-13T13:54:15.509722Z"
    }
   },
   "cell_type": "code",
   "source": "sent_tokenize(corpus)",
   "id": "83546a7f2f713561",
   "outputs": [
    {
     "data": {
      "text/plain": [
       "[\"Hello and welcome to eye-neuron's NLP Tutorials.\",\n",
       " 'Please do watch the entire course.',\n",
       " 'Hope you become expert in NLP.']"
      ]
     },
     "execution_count": 5,
     "metadata": {},
     "output_type": "execute_result"
    }
   ],
   "execution_count": 5
  },
  {
   "metadata": {
    "ExecuteTime": {
     "end_time": "2025-01-13T14:00:40.572706Z",
     "start_time": "2025-01-13T14:00:40.568745Z"
    }
   },
   "cell_type": "code",
   "source": "documents = sent_tokenize(corpus)",
   "id": "8f224386099aa487",
   "outputs": [],
   "execution_count": 6
  },
  {
   "metadata": {
    "ExecuteTime": {
     "end_time": "2025-01-13T14:01:00.686203Z",
     "start_time": "2025-01-13T14:01:00.678847Z"
    }
   },
   "cell_type": "code",
   "source": "print(type(documents) )",
   "id": "c5e0ededee46aa44",
   "outputs": [
    {
     "name": "stdout",
     "output_type": "stream",
     "text": [
      "<class 'list'>\n"
     ]
    }
   ],
   "execution_count": 7
  },
  {
   "metadata": {
    "ExecuteTime": {
     "end_time": "2025-01-13T14:01:40.514272Z",
     "start_time": "2025-01-13T14:01:40.508127Z"
    }
   },
   "cell_type": "code",
   "source": [
    "for sentences in documents:\n",
    "    print(sentences)"
   ],
   "id": "1397ae315d348170",
   "outputs": [
    {
     "name": "stdout",
     "output_type": "stream",
     "text": [
      "Hello and welcome to eye-neuron's NLP Tutorials.\n",
      "Please do watch the entire course.\n",
      "Hope you become expert in NLP.\n"
     ]
    }
   ],
   "execution_count": 8
  },
  {
   "metadata": {},
   "cell_type": "markdown",
   "source": "___",
   "id": "da9b5de27359203c"
  },
  {
   "metadata": {},
   "cell_type": "markdown",
   "source": "**## paragraph --> words and sentences --> words**",
   "id": "f4bda86e1a31af37"
  },
  {
   "metadata": {
    "ExecuteTime": {
     "end_time": "2025-01-13T14:05:35.787955Z",
     "start_time": "2025-01-13T14:05:35.784080Z"
    }
   },
   "cell_type": "code",
   "source": "from nltk.tokenize import word_tokenize",
   "id": "71cf30043ba10d0c",
   "outputs": [],
   "execution_count": 9
  },
  {
   "metadata": {},
   "cell_type": "raw",
   "source": [
    "## Description:\n",
    "# // This is the function used to convert paragrapgh, sentences into words."
   ],
   "id": "88a9c40a2f9a4c7f"
  },
  {
   "metadata": {
    "ExecuteTime": {
     "end_time": "2025-01-13T14:07:19.824271Z",
     "start_time": "2025-01-13T14:07:19.817480Z"
    }
   },
   "cell_type": "code",
   "source": "word_tokenize(corpus)",
   "id": "ca5e07bd99d66a40",
   "outputs": [
    {
     "data": {
      "text/plain": [
       "['Hello',\n",
       " 'and',\n",
       " 'welcome',\n",
       " 'to',\n",
       " 'eye-neuron',\n",
       " \"'s\",\n",
       " 'NLP',\n",
       " 'Tutorials',\n",
       " '.',\n",
       " 'Please',\n",
       " 'do',\n",
       " 'watch',\n",
       " 'the',\n",
       " 'entire',\n",
       " 'course',\n",
       " '.',\n",
       " 'Hope',\n",
       " 'you',\n",
       " 'become',\n",
       " 'expert',\n",
       " 'in',\n",
       " 'NLP',\n",
       " '.']"
      ]
     },
     "execution_count": 10,
     "metadata": {},
     "output_type": "execute_result"
    }
   ],
   "execution_count": 10
  },
  {
   "metadata": {
    "ExecuteTime": {
     "end_time": "2025-01-13T14:12:30.434555Z",
     "start_time": "2025-01-13T14:12:30.427598Z"
    }
   },
   "cell_type": "code",
   "source": [
    "for sentences in documents:\n",
    "    print(word_tokenize(sentences) )"
   ],
   "id": "9b9ccf73fb83609",
   "outputs": [
    {
     "name": "stdout",
     "output_type": "stream",
     "text": [
      "['Hello', 'and', 'welcome', 'to', 'eye-neuron', \"'s\", 'NLP', 'Tutorials', '.']\n",
      "['Please', 'do', 'watch', 'the', 'entire', 'course', '.']\n",
      "['Hope', 'you', 'become', 'expert', 'in', 'NLP', '.']\n"
     ]
    }
   ],
   "execution_count": 11
  },
  {
   "metadata": {},
   "cell_type": "raw",
   "source": [
    "## Des:\n",
    "# // This was sentence to words"
   ],
   "id": "13e948618d19adbf"
  },
  {
   "metadata": {},
   "cell_type": "markdown",
   "source": "___",
   "id": "89c4edb85c8ee299"
  },
  {
   "metadata": {
    "ExecuteTime": {
     "end_time": "2025-01-13T14:15:30.788403Z",
     "start_time": "2025-01-13T14:15:30.784220Z"
    }
   },
   "cell_type": "code",
   "source": "from nltk.tokenize import wordpunct_tokenize",
   "id": "50299e2486fb01e",
   "outputs": [],
   "execution_count": 12
  },
  {
   "metadata": {
    "ExecuteTime": {
     "end_time": "2025-01-13T14:15:54.277545Z",
     "start_time": "2025-01-13T14:15:54.270815Z"
    }
   },
   "cell_type": "code",
   "source": "wordpunct_tokenize(corpus)",
   "id": "a3a059b6321f0891",
   "outputs": [
    {
     "data": {
      "text/plain": [
       "['Hello',\n",
       " 'and',\n",
       " 'welcome',\n",
       " 'to',\n",
       " 'eye',\n",
       " '-',\n",
       " 'neuron',\n",
       " \"'\",\n",
       " 's',\n",
       " 'NLP',\n",
       " 'Tutorials',\n",
       " '.',\n",
       " 'Please',\n",
       " 'do',\n",
       " 'watch',\n",
       " 'the',\n",
       " 'entire',\n",
       " 'course',\n",
       " '.',\n",
       " 'Hope',\n",
       " 'you',\n",
       " 'become',\n",
       " 'expert',\n",
       " 'in',\n",
       " 'NLP',\n",
       " '.']"
      ]
     },
     "execution_count": 13,
     "metadata": {},
     "output_type": "execute_result"
    }
   ],
   "execution_count": 13
  },
  {
   "metadata": {},
   "cell_type": "raw",
   "source": [
    "## Des:\n",
    "# // **The difference between this and the above is that it seperates everything that includes\n",
    "# / special symbols as well."
   ],
   "id": "4ea917ec2c706517"
  },
  {
   "metadata": {},
   "cell_type": "markdown",
   "source": "___",
   "id": "66a150bb0bc3eca4"
  },
  {
   "metadata": {
    "ExecuteTime": {
     "end_time": "2025-01-13T14:20:23.475425Z",
     "start_time": "2025-01-13T14:20:23.470498Z"
    }
   },
   "cell_type": "code",
   "source": "from nltk.tokenize import TreebankWordTokenizer",
   "id": "494f711ada2877f8",
   "outputs": [],
   "execution_count": 14
  },
  {
   "metadata": {
    "ExecuteTime": {
     "end_time": "2025-01-13T14:21:10.977077Z",
     "start_time": "2025-01-13T14:21:10.972809Z"
    }
   },
   "cell_type": "code",
   "source": "tree_bank_Tok = TreebankWordTokenizer()",
   "id": "b1c27001f921dbcc",
   "outputs": [],
   "execution_count": 15
  },
  {
   "metadata": {
    "ExecuteTime": {
     "end_time": "2025-01-13T14:21:23.968442Z",
     "start_time": "2025-01-13T14:21:23.959970Z"
    }
   },
   "cell_type": "code",
   "source": "tree_bank_Tok.tokenize(corpus)",
   "id": "4354beeb051d0807",
   "outputs": [
    {
     "data": {
      "text/plain": [
       "['Hello',\n",
       " 'and',\n",
       " 'welcome',\n",
       " 'to',\n",
       " 'eye-neuron',\n",
       " \"'s\",\n",
       " 'NLP',\n",
       " 'Tutorials.',\n",
       " 'Please',\n",
       " 'do',\n",
       " 'watch',\n",
       " 'the',\n",
       " 'entire',\n",
       " 'course.',\n",
       " 'Hope',\n",
       " 'you',\n",
       " 'become',\n",
       " 'expert',\n",
       " 'in',\n",
       " 'NLP',\n",
       " '.']"
      ]
     },
     "execution_count": 16,
     "metadata": {},
     "output_type": "execute_result"
    }
   ],
   "execution_count": 16
  },
  {
   "metadata": {},
   "cell_type": "raw",
   "source": [
    "## Des:\n",
    "# // Here the '.' and ' aren't treated as a seperate words like in the function above it.\n",
    "# // ** The last full stop of the last sentence will be treated as a seperate word, but not the\n",
    "# / full stops of the other sentences."
   ],
   "id": "4d21ac7915e789a1"
  },
  {
   "metadata": {},
   "cell_type": "markdown",
   "source": "___",
   "id": "9a9b05ffd508bf9b"
  },
  {
   "metadata": {},
   "cell_type": "code",
   "outputs": [],
   "execution_count": null,
   "source": "",
   "id": "59e36a533a94773a"
  }
 ],
 "metadata": {
  "kernelspec": {
   "display_name": "Python 3",
   "language": "python",
   "name": "python3"
  },
  "language_info": {
   "codemirror_mode": {
    "name": "ipython",
    "version": 2
   },
   "file_extension": ".py",
   "mimetype": "text/x-python",
   "name": "python",
   "nbconvert_exporter": "python",
   "pygments_lexer": "ipython2",
   "version": "2.7.6"
  }
 },
 "nbformat": 4,
 "nbformat_minor": 5
}
